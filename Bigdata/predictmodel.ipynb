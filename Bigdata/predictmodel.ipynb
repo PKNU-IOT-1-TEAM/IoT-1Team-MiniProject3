{
  "cells": [
    {
      "cell_type": "code",
      "execution_count": 1,
      "metadata": {
        "colab": {
          "base_uri": "https://localhost:8080/"
        },
        "id": "H-eO3TtddWgG",
        "outputId": "dab54876-ab12-4b85-ea21-1c178d2ccad3"
      },
      "outputs": [],
      "source": [
        "import math\n",
        "import requests\n",
        "import numpy as np\n",
        "import pandas as pd\n",
        "import re\n",
        "import time\n",
        "\n",
        "from urllib.parse import unquote, urlencode, quote_plus\n",
        "from datetime import datetime, date, timedelta\n",
        "\n",
        "from joblib import dump, load\n",
        "\n",
        "# Plots\n",
        "import matplotlib.pyplot as plt\n",
        "import seaborn as sns\n",
        "%matplotlib inline\n",
        "\n",
        "# machine learning\n",
        "from sklearn.linear_model import LogisticRegression\n",
        "from sklearn.svm import SVC, LinearSVC\n",
        "from sklearn.ensemble import RandomForestClassifier, StackingClassifier\n",
        "from sklearn.neighbors import KNeighborsClassifier\n",
        "from sklearn.naive_bayes import GaussianNB\n",
        "from sklearn.linear_model import Perceptron\n",
        "from sklearn.linear_model import SGDClassifier\n",
        "from sklearn.tree import DecisionTreeClassifier\n",
        "from sklearn.neural_network import MLPClassifier\n",
        "from sklearn.linear_model import LogisticRegressionCV\n",
        "from sklearn.model_selection import cross_val_score, RepeatedStratifiedKFold\n",
        "\n",
        "from sklearn.model_selection import train_test_split\n",
        "from sklearn.preprocessing import MinMaxScaler, StandardScaler"
      ]
    },
    {
      "cell_type": "code",
      "execution_count": 2,
      "metadata": {
        "colab": {
          "base_uri": "https://localhost:8080/",
          "height": 1000
        },
        "id": "zBGlU0bThkNu",
        "outputId": "010221e3-5d15-46a4-eb8d-342c5a949e38"
      },
      "outputs": [
        {
          "name": "stderr",
          "output_type": "stream",
          "text": [
            "c:\\DEV\\Langs\\Python311\\Lib\\site-packages\\urllib3\\connectionpool.py:1045: InsecureRequestWarning: Unverified HTTPS request is being made to host 'apis.data.go.kr'. Adding certificate verification is strongly advised. See: https://urllib3.readthedocs.io/en/1.26.x/advanced-usage.html#ssl-warnings\n",
            "  warnings.warn(\n"
          ]
        },
        {
          "ename": "FileNotFoundError",
          "evalue": "[Errno 2] No such file or directory: 'stacking_model.joblib'",
          "output_type": "error",
          "traceback": [
            "\u001b[1;31m---------------------------------------------------------------------------\u001b[0m",
            "\u001b[1;31mFileNotFoundError\u001b[0m                         Traceback (most recent call last)",
            "Cell \u001b[1;32mIn[2], line 42\u001b[0m\n\u001b[0;32m     37\u001b[0m items \u001b[39m=\u001b[39m res\u001b[39m.\u001b[39mjson()\u001b[39m.\u001b[39mget(\u001b[39m'\u001b[39m\u001b[39mresponse\u001b[39m\u001b[39m'\u001b[39m)\u001b[39m.\u001b[39mget(\u001b[39m'\u001b[39m\u001b[39mbody\u001b[39m\u001b[39m'\u001b[39m)\u001b[39m.\u001b[39mget(\u001b[39m'\u001b[39m\u001b[39mitems\u001b[39m\u001b[39m'\u001b[39m) \u001b[39m#데이터들 아이템에 저장\u001b[39;00m\n\u001b[0;32m     41\u001b[0m \u001b[39m# 저장된 모델 로드\u001b[39;00m\n\u001b[1;32m---> 42\u001b[0m stacking \u001b[39m=\u001b[39m load(\u001b[39m'\u001b[39;49m\u001b[39mstacking_model.joblib\u001b[39;49m\u001b[39m'\u001b[39;49m)\n\u001b[0;32m     44\u001b[0m data \u001b[39m=\u001b[39m {\n\u001b[0;32m     45\u001b[0m     \u001b[39m'\u001b[39m\u001b[39m기온(°C)\u001b[39m\u001b[39m'\u001b[39m: [\u001b[39mfloat\u001b[39m(items[\u001b[39m'\u001b[39m\u001b[39mitem\u001b[39m\u001b[39m'\u001b[39m][\u001b[39m3\u001b[39m][\u001b[39m'\u001b[39m\u001b[39mobsrValue\u001b[39m\u001b[39m'\u001b[39m])],\n\u001b[0;32m     46\u001b[0m     \u001b[39m'\u001b[39m\u001b[39m풍향(deg)\u001b[39m\u001b[39m'\u001b[39m: [\u001b[39mfloat\u001b[39m(items[\u001b[39m'\u001b[39m\u001b[39mitem\u001b[39m\u001b[39m'\u001b[39m][\u001b[39m5\u001b[39m][\u001b[39m'\u001b[39m\u001b[39mobsrValue\u001b[39m\u001b[39m'\u001b[39m])],\n\u001b[0;32m     47\u001b[0m     \u001b[39m'\u001b[39m\u001b[39m풍속(m/s)\u001b[39m\u001b[39m'\u001b[39m: [\u001b[39mfloat\u001b[39m(items[\u001b[39m'\u001b[39m\u001b[39mitem\u001b[39m\u001b[39m'\u001b[39m][\u001b[39m7\u001b[39m][\u001b[39m'\u001b[39m\u001b[39mobsrValue\u001b[39m\u001b[39m'\u001b[39m])],\n\u001b[0;32m     48\u001b[0m     \u001b[39m'\u001b[39m\u001b[39m강수량(mm)\u001b[39m\u001b[39m'\u001b[39m: [\u001b[39mfloat\u001b[39m(items[\u001b[39m'\u001b[39m\u001b[39mitem\u001b[39m\u001b[39m'\u001b[39m][\u001b[39m2\u001b[39m][\u001b[39m'\u001b[39m\u001b[39mobsrValue\u001b[39m\u001b[39m'\u001b[39m])]\n\u001b[0;32m     49\u001b[0m }\n\u001b[0;32m     51\u001b[0m new_data \u001b[39m=\u001b[39m pd\u001b[39m.\u001b[39mDataFrame(data)\n",
            "File \u001b[1;32mc:\\DEV\\Langs\\Python311\\Lib\\site-packages\\joblib\\numpy_pickle.py:650\u001b[0m, in \u001b[0;36mload\u001b[1;34m(filename, mmap_mode)\u001b[0m\n\u001b[0;32m    648\u001b[0m         obj \u001b[39m=\u001b[39m _unpickle(fobj)\n\u001b[0;32m    649\u001b[0m \u001b[39melse\u001b[39;00m:\n\u001b[1;32m--> 650\u001b[0m     \u001b[39mwith\u001b[39;00m \u001b[39mopen\u001b[39;49m(filename, \u001b[39m'\u001b[39;49m\u001b[39mrb\u001b[39;49m\u001b[39m'\u001b[39;49m) \u001b[39mas\u001b[39;00m f:\n\u001b[0;32m    651\u001b[0m         \u001b[39mwith\u001b[39;00m _read_fileobject(f, filename, mmap_mode) \u001b[39mas\u001b[39;00m fobj:\n\u001b[0;32m    652\u001b[0m             \u001b[39mif\u001b[39;00m \u001b[39misinstance\u001b[39m(fobj, \u001b[39mstr\u001b[39m):\n\u001b[0;32m    653\u001b[0m                 \u001b[39m# if the returned file object is a string, this means we\u001b[39;00m\n\u001b[0;32m    654\u001b[0m                 \u001b[39m# try to load a pickle file generated with an version of\u001b[39;00m\n\u001b[0;32m    655\u001b[0m                 \u001b[39m# Joblib so we load it with joblib compatibility function.\u001b[39;00m\n",
            "\u001b[1;31mFileNotFoundError\u001b[0m: [Errno 2] No such file or directory: 'stacking_model.joblib'"
          ]
        }
      ],
      "source": [
        "url = \"https://apis.data.go.kr/1360000/VilageFcstInfoService_2.0/getUltraSrtNcst\"\n",
        "\n",
        "serviceKey = \"wGokgRxD1t3z5G4u7MsWumpoCeiWO8JM6yZ87rX1ELTO9nMSUuMOQjHj70rAzuopgyB1iLdKX0S9WK0RLs88bQ==\" # 공공데이터 포털에서 생성된 본인의 서비스 키를 복사 / 붙여넣기\n",
        "serviceKeyDecoded = unquote(serviceKey, 'UTF-8') # 공데이터 포털에서 제공하는 서비스키는 이미 인코딩된 상태이므로, 디코딩하여 사용해야 함\n",
        "\n",
        "while True:\n",
        "  now = datetime.now()\n",
        "  today = datetime.today().strftime(\"%Y%m%d\")\n",
        "  y = date.today() - timedelta(days=1)\n",
        "  yesterday = y.strftime(\"%Y%m%d\")\n",
        "\n",
        "  if now.minute<45: # base_time와 base_date 구하는 함수\n",
        "      if now.hour==0:\n",
        "          base_time = \"2330\"\n",
        "          base_date = yesterday\n",
        "      else:\n",
        "          pre_hour = now.hour-1\n",
        "          if pre_hour<10:\n",
        "              base_time = \"0\" + str(pre_hour) + \"30\"\n",
        "          else:\n",
        "              base_time = str(pre_hour) + \"30\"\n",
        "          base_date = today\n",
        "  else:\n",
        "      if now.hour < 10:\n",
        "          base_time = \"0\" + str(now.hour) + \"30\"\n",
        "      else:\n",
        "          base_time = str(now.hour) + \"30\"\n",
        "      base_date = today\n",
        "\n",
        "  queryParams = '?' + urlencode({ quote_plus('serviceKey') : serviceKeyDecoded, quote_plus('base_date') : base_date, quote_plus('pageNo') : 1,\n",
        "                                      quote_plus('base_time') : base_time, quote_plus('nx') : 98, quote_plus('ny') : 76,\n",
        "                                      quote_plus('dataType') : 'json', quote_plus('numOfRows') : '60'}) #페이지로 안나누고 한번에 받아오기 위해 numOfRows=60으로 설정해주었다\n",
        "\n",
        "\n",
        "      # 값 요청 (웹 브라우저 서버에서 요청 - url주소와 파라미터)\n",
        "  res = requests.get(url + queryParams, verify=False) # verify=False이거 안 넣으면 에러남ㅜㅜ\n",
        "  items = res.json().get('response').get('body').get('items') #데이터들 아이템에 저장\n",
        "\n",
        "\n",
        "\n",
        "  # 저장된 모델 로드\n",
        "  stacking = load('stacking_model.joblib')\n",
        "\n",
        "  data = {\n",
        "      '기온(°C)': [float(items['item'][3]['obsrValue'])],\n",
        "      '풍향(deg)': [float(items['item'][5]['obsrValue'])],\n",
        "      '풍속(m/s)': [float(items['item'][7]['obsrValue'])],\n",
        "      '강수량(mm)': [float(items['item'][2]['obsrValue'])]\n",
        "  }\n",
        "\n",
        "  new_data = pd.DataFrame(data)\n",
        "\n",
        "  predictions = stacking.predict(new_data)\n",
        "\n",
        "  probabilities = stacking.predict_proba(new_data)\n",
        "\n",
        "  print(data)\n",
        "  print(f\"침수확률 : {probabilities[0][1]:.2%}\")\n",
        "\n",
        "  time.sleep(600)"
      ]
    }
  ],
  "metadata": {
    "colab": {
      "provenance": []
    },
    "kernelspec": {
      "display_name": "Python 3",
      "name": "python3"
    },
    "language_info": {
      "codemirror_mode": {
        "name": "ipython",
        "version": 3
      },
      "file_extension": ".py",
      "mimetype": "text/x-python",
      "name": "python",
      "nbconvert_exporter": "python",
      "pygments_lexer": "ipython3",
      "version": "3.11.2"
    }
  },
  "nbformat": 4,
  "nbformat_minor": 0
}
